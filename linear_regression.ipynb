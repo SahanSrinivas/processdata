{
 "cells": [
  {
   "cell_type": "code",
   "execution_count": 33,
   "metadata": {
    "collapsed": true
   },
   "outputs": [],
   "source": [
    "import pandas as pd"
   ]
  },
  {
   "cell_type": "code",
   "execution_count": 34,
   "metadata": {},
   "outputs": [
    {
     "data": {
      "text/html": [
       "<div>\n",
       "<style>\n",
       "    .dataframe thead tr:only-child th {\n",
       "        text-align: right;\n",
       "    }\n",
       "\n",
       "    .dataframe thead th {\n",
       "        text-align: left;\n",
       "    }\n",
       "\n",
       "    .dataframe tbody tr th {\n",
       "        vertical-align: top;\n",
       "    }\n",
       "</style>\n",
       "<table border=\"1\" class=\"dataframe\">\n",
       "  <thead>\n",
       "    <tr style=\"text-align: right;\">\n",
       "      <th></th>\n",
       "      <th>Date</th>\n",
       "      <th>Time</th>\n",
       "      <th>H2_Ratio</th>\n",
       "      <th>C4_Ratio</th>\n",
       "      <th>C_C2</th>\n",
       "      <th>F_C2</th>\n",
       "      <th>C_C4</th>\n",
       "      <th>F_C4</th>\n",
       "      <th>C_H2</th>\n",
       "      <th>F_H2</th>\n",
       "      <th>Temp</th>\n",
       "      <th>Press</th>\n",
       "      <th>Level</th>\n",
       "    </tr>\n",
       "  </thead>\n",
       "  <tbody>\n",
       "    <tr>\n",
       "      <th>0</th>\n",
       "      <td>10/10/98</td>\n",
       "      <td>6:00:00</td>\n",
       "      <td>0.0059</td>\n",
       "      <td>0.0517</td>\n",
       "      <td>0.3634</td>\n",
       "      <td>2922.3832</td>\n",
       "      <td>0.0188</td>\n",
       "      <td>113.7634</td>\n",
       "      <td>0.0021</td>\n",
       "      <td>0.0666</td>\n",
       "      <td>90.0</td>\n",
       "      <td>30.3975</td>\n",
       "      <td>3.0</td>\n",
       "    </tr>\n",
       "    <tr>\n",
       "      <th>1</th>\n",
       "      <td>10/10/98</td>\n",
       "      <td>6:06:00</td>\n",
       "      <td>0.0059</td>\n",
       "      <td>0.0517</td>\n",
       "      <td>0.3634</td>\n",
       "      <td>2922.3832</td>\n",
       "      <td>0.0188</td>\n",
       "      <td>113.7634</td>\n",
       "      <td>0.0021</td>\n",
       "      <td>0.0666</td>\n",
       "      <td>90.0</td>\n",
       "      <td>30.3975</td>\n",
       "      <td>3.0</td>\n",
       "    </tr>\n",
       "    <tr>\n",
       "      <th>2</th>\n",
       "      <td>10/10/98</td>\n",
       "      <td>6:12:00</td>\n",
       "      <td>0.0059</td>\n",
       "      <td>0.0517</td>\n",
       "      <td>0.3634</td>\n",
       "      <td>2922.3832</td>\n",
       "      <td>0.0188</td>\n",
       "      <td>113.7634</td>\n",
       "      <td>0.0021</td>\n",
       "      <td>0.0666</td>\n",
       "      <td>90.0</td>\n",
       "      <td>30.3975</td>\n",
       "      <td>3.0</td>\n",
       "    </tr>\n",
       "    <tr>\n",
       "      <th>3</th>\n",
       "      <td>10/10/98</td>\n",
       "      <td>6:18:00</td>\n",
       "      <td>0.0059</td>\n",
       "      <td>0.0517</td>\n",
       "      <td>0.3634</td>\n",
       "      <td>2922.3832</td>\n",
       "      <td>0.0188</td>\n",
       "      <td>113.7634</td>\n",
       "      <td>0.0021</td>\n",
       "      <td>0.0666</td>\n",
       "      <td>90.0</td>\n",
       "      <td>30.3975</td>\n",
       "      <td>3.0</td>\n",
       "    </tr>\n",
       "    <tr>\n",
       "      <th>4</th>\n",
       "      <td>10/10/98</td>\n",
       "      <td>6:24:00</td>\n",
       "      <td>0.0059</td>\n",
       "      <td>0.0517</td>\n",
       "      <td>0.3634</td>\n",
       "      <td>2922.3832</td>\n",
       "      <td>0.0188</td>\n",
       "      <td>113.7634</td>\n",
       "      <td>0.0021</td>\n",
       "      <td>0.0666</td>\n",
       "      <td>90.0</td>\n",
       "      <td>30.3975</td>\n",
       "      <td>3.0</td>\n",
       "    </tr>\n",
       "  </tbody>\n",
       "</table>\n",
       "</div>"
      ],
      "text/plain": [
       "       Date     Time  H2_Ratio  C4_Ratio    C_C2       F_C2    C_C4      F_C4  \\\n",
       "0  10/10/98  6:00:00    0.0059    0.0517  0.3634  2922.3832  0.0188  113.7634   \n",
       "1  10/10/98  6:06:00    0.0059    0.0517  0.3634  2922.3832  0.0188  113.7634   \n",
       "2  10/10/98  6:12:00    0.0059    0.0517  0.3634  2922.3832  0.0188  113.7634   \n",
       "3  10/10/98  6:18:00    0.0059    0.0517  0.3634  2922.3832  0.0188  113.7634   \n",
       "4  10/10/98  6:24:00    0.0059    0.0517  0.3634  2922.3832  0.0188  113.7634   \n",
       "\n",
       "     C_H2    F_H2  Temp    Press  Level  \n",
       "0  0.0021  0.0666  90.0  30.3975    3.0  \n",
       "1  0.0021  0.0666  90.0  30.3975    3.0  \n",
       "2  0.0021  0.0666  90.0  30.3975    3.0  \n",
       "3  0.0021  0.0666  90.0  30.3975    3.0  \n",
       "4  0.0021  0.0666  90.0  30.3975    3.0  "
      ]
     },
     "execution_count": 34,
     "metadata": {},
     "output_type": "execute_result"
    }
   ],
   "source": [
    "dcsdata = pd.read_table('DCSData.txt')\n",
    "dcsdata.head()"
   ]
  },
  {
   "cell_type": "code",
   "execution_count": 35,
   "metadata": {},
   "outputs": [
    {
     "data": {
      "text/html": [
       "<div>\n",
       "<style>\n",
       "    .dataframe thead tr:only-child th {\n",
       "        text-align: right;\n",
       "    }\n",
       "\n",
       "    .dataframe thead th {\n",
       "        text-align: left;\n",
       "    }\n",
       "\n",
       "    .dataframe tbody tr th {\n",
       "        vertical-align: top;\n",
       "    }\n",
       "</style>\n",
       "<table border=\"1\" class=\"dataframe\">\n",
       "  <thead>\n",
       "    <tr style=\"text-align: right;\">\n",
       "      <th></th>\n",
       "      <th>H2_Ratio</th>\n",
       "      <th>C4_Ratio</th>\n",
       "      <th>C_C2</th>\n",
       "      <th>F_C2</th>\n",
       "      <th>C_C4</th>\n",
       "      <th>F_C4</th>\n",
       "      <th>C_H2</th>\n",
       "      <th>F_H2</th>\n",
       "      <th>Temp</th>\n",
       "      <th>Press</th>\n",
       "      <th>Level</th>\n",
       "    </tr>\n",
       "    <tr>\n",
       "      <th>Date_Time</th>\n",
       "      <th></th>\n",
       "      <th></th>\n",
       "      <th></th>\n",
       "      <th></th>\n",
       "      <th></th>\n",
       "      <th></th>\n",
       "      <th></th>\n",
       "      <th></th>\n",
       "      <th></th>\n",
       "      <th></th>\n",
       "      <th></th>\n",
       "    </tr>\n",
       "  </thead>\n",
       "  <tbody>\n",
       "    <tr>\n",
       "      <th>1998-10-10 06:00:00</th>\n",
       "      <td>0.0059</td>\n",
       "      <td>0.0517</td>\n",
       "      <td>0.3634</td>\n",
       "      <td>2922.3832</td>\n",
       "      <td>0.0188</td>\n",
       "      <td>113.7634</td>\n",
       "      <td>0.0021</td>\n",
       "      <td>0.0666</td>\n",
       "      <td>90.0</td>\n",
       "      <td>30.3975</td>\n",
       "      <td>3.0</td>\n",
       "    </tr>\n",
       "    <tr>\n",
       "      <th>1998-10-10 06:06:00</th>\n",
       "      <td>0.0059</td>\n",
       "      <td>0.0517</td>\n",
       "      <td>0.3634</td>\n",
       "      <td>2922.3832</td>\n",
       "      <td>0.0188</td>\n",
       "      <td>113.7634</td>\n",
       "      <td>0.0021</td>\n",
       "      <td>0.0666</td>\n",
       "      <td>90.0</td>\n",
       "      <td>30.3975</td>\n",
       "      <td>3.0</td>\n",
       "    </tr>\n",
       "    <tr>\n",
       "      <th>1998-10-10 06:12:00</th>\n",
       "      <td>0.0059</td>\n",
       "      <td>0.0517</td>\n",
       "      <td>0.3634</td>\n",
       "      <td>2922.3832</td>\n",
       "      <td>0.0188</td>\n",
       "      <td>113.7634</td>\n",
       "      <td>0.0021</td>\n",
       "      <td>0.0666</td>\n",
       "      <td>90.0</td>\n",
       "      <td>30.3975</td>\n",
       "      <td>3.0</td>\n",
       "    </tr>\n",
       "    <tr>\n",
       "      <th>1998-10-10 06:18:00</th>\n",
       "      <td>0.0059</td>\n",
       "      <td>0.0517</td>\n",
       "      <td>0.3634</td>\n",
       "      <td>2922.3832</td>\n",
       "      <td>0.0188</td>\n",
       "      <td>113.7634</td>\n",
       "      <td>0.0021</td>\n",
       "      <td>0.0666</td>\n",
       "      <td>90.0</td>\n",
       "      <td>30.3975</td>\n",
       "      <td>3.0</td>\n",
       "    </tr>\n",
       "    <tr>\n",
       "      <th>1998-10-10 06:24:00</th>\n",
       "      <td>0.0059</td>\n",
       "      <td>0.0517</td>\n",
       "      <td>0.3634</td>\n",
       "      <td>2922.3832</td>\n",
       "      <td>0.0188</td>\n",
       "      <td>113.7634</td>\n",
       "      <td>0.0021</td>\n",
       "      <td>0.0666</td>\n",
       "      <td>90.0</td>\n",
       "      <td>30.3975</td>\n",
       "      <td>3.0</td>\n",
       "    </tr>\n",
       "  </tbody>\n",
       "</table>\n",
       "</div>"
      ],
      "text/plain": [
       "                     H2_Ratio  C4_Ratio    C_C2       F_C2    C_C4      F_C4  \\\n",
       "Date_Time                                                                      \n",
       "1998-10-10 06:00:00    0.0059    0.0517  0.3634  2922.3832  0.0188  113.7634   \n",
       "1998-10-10 06:06:00    0.0059    0.0517  0.3634  2922.3832  0.0188  113.7634   \n",
       "1998-10-10 06:12:00    0.0059    0.0517  0.3634  2922.3832  0.0188  113.7634   \n",
       "1998-10-10 06:18:00    0.0059    0.0517  0.3634  2922.3832  0.0188  113.7634   \n",
       "1998-10-10 06:24:00    0.0059    0.0517  0.3634  2922.3832  0.0188  113.7634   \n",
       "\n",
       "                       C_H2    F_H2  Temp    Press  Level  \n",
       "Date_Time                                                  \n",
       "1998-10-10 06:00:00  0.0021  0.0666  90.0  30.3975    3.0  \n",
       "1998-10-10 06:06:00  0.0021  0.0666  90.0  30.3975    3.0  \n",
       "1998-10-10 06:12:00  0.0021  0.0666  90.0  30.3975    3.0  \n",
       "1998-10-10 06:18:00  0.0021  0.0666  90.0  30.3975    3.0  \n",
       "1998-10-10 06:24:00  0.0021  0.0666  90.0  30.3975    3.0  "
      ]
     },
     "execution_count": 35,
     "metadata": {},
     "output_type": "execute_result"
    }
   ],
   "source": [
    "dcsdata['Date_Time'] = dcsdata.Date+' '+dcsdata.Time\n",
    "dcsdata.Date_Time = pd.to_datetime(dcsdata.Date_Time)\n",
    "dcsdata.set_index('Date_Time', inplace=True)\n",
    "dcsdata.drop(['Date','Time'], axis=1, inplace=True)\n",
    "dcsdata.head()"
   ]
  },
  {
   "cell_type": "code",
   "execution_count": 36,
   "metadata": {},
   "outputs": [
    {
     "data": {
      "text/html": [
       "<div>\n",
       "<style>\n",
       "    .dataframe thead tr:only-child th {\n",
       "        text-align: right;\n",
       "    }\n",
       "\n",
       "    .dataframe thead th {\n",
       "        text-align: left;\n",
       "    }\n",
       "\n",
       "    .dataframe tbody tr th {\n",
       "        vertical-align: top;\n",
       "    }\n",
       "</style>\n",
       "<table border=\"1\" class=\"dataframe\">\n",
       "  <thead>\n",
       "    <tr style=\"text-align: right;\">\n",
       "      <th></th>\n",
       "      <th>Date</th>\n",
       "      <th>Time</th>\n",
       "      <th>R_MI</th>\n",
       "    </tr>\n",
       "  </thead>\n",
       "  <tbody>\n",
       "    <tr>\n",
       "      <th>0</th>\n",
       "      <td>10/10/98</td>\n",
       "      <td>6:00:00</td>\n",
       "      <td>0.2812</td>\n",
       "    </tr>\n",
       "    <tr>\n",
       "      <th>1</th>\n",
       "      <td>10/10/98</td>\n",
       "      <td>7:48:00</td>\n",
       "      <td>0.2896</td>\n",
       "    </tr>\n",
       "    <tr>\n",
       "      <th>2</th>\n",
       "      <td>10/10/98</td>\n",
       "      <td>9:48:00</td>\n",
       "      <td>0.3144</td>\n",
       "    </tr>\n",
       "    <tr>\n",
       "      <th>3</th>\n",
       "      <td>10/10/98</td>\n",
       "      <td>11:48:00</td>\n",
       "      <td>0.2973</td>\n",
       "    </tr>\n",
       "    <tr>\n",
       "      <th>4</th>\n",
       "      <td>10/10/98</td>\n",
       "      <td>13:48:00</td>\n",
       "      <td>0.2673</td>\n",
       "    </tr>\n",
       "  </tbody>\n",
       "</table>\n",
       "</div>"
      ],
      "text/plain": [
       "       Date      Time    R_MI\n",
       "0  10/10/98   6:00:00  0.2812\n",
       "1  10/10/98   7:48:00  0.2896\n",
       "2  10/10/98   9:48:00  0.3144\n",
       "3  10/10/98  11:48:00  0.2973\n",
       "4  10/10/98  13:48:00  0.2673"
      ]
     },
     "execution_count": 36,
     "metadata": {},
     "output_type": "execute_result"
    }
   ],
   "source": [
    "labdata = pd.read_table('LabData.txt')\n",
    "labdata.head()"
   ]
  },
  {
   "cell_type": "code",
   "execution_count": 37,
   "metadata": {},
   "outputs": [
    {
     "data": {
      "text/html": [
       "<div>\n",
       "<style>\n",
       "    .dataframe thead tr:only-child th {\n",
       "        text-align: right;\n",
       "    }\n",
       "\n",
       "    .dataframe thead th {\n",
       "        text-align: left;\n",
       "    }\n",
       "\n",
       "    .dataframe tbody tr th {\n",
       "        vertical-align: top;\n",
       "    }\n",
       "</style>\n",
       "<table border=\"1\" class=\"dataframe\">\n",
       "  <thead>\n",
       "    <tr style=\"text-align: right;\">\n",
       "      <th></th>\n",
       "      <th>R_MI</th>\n",
       "    </tr>\n",
       "    <tr>\n",
       "      <th>Date_Time</th>\n",
       "      <th></th>\n",
       "    </tr>\n",
       "  </thead>\n",
       "  <tbody>\n",
       "    <tr>\n",
       "      <th>1998-10-10 06:00:00</th>\n",
       "      <td>0.2812</td>\n",
       "    </tr>\n",
       "    <tr>\n",
       "      <th>1998-10-10 07:48:00</th>\n",
       "      <td>0.2896</td>\n",
       "    </tr>\n",
       "    <tr>\n",
       "      <th>1998-10-10 09:48:00</th>\n",
       "      <td>0.3144</td>\n",
       "    </tr>\n",
       "    <tr>\n",
       "      <th>1998-10-10 11:48:00</th>\n",
       "      <td>0.2973</td>\n",
       "    </tr>\n",
       "    <tr>\n",
       "      <th>1998-10-10 13:48:00</th>\n",
       "      <td>0.2673</td>\n",
       "    </tr>\n",
       "  </tbody>\n",
       "</table>\n",
       "</div>"
      ],
      "text/plain": [
       "                       R_MI\n",
       "Date_Time                  \n",
       "1998-10-10 06:00:00  0.2812\n",
       "1998-10-10 07:48:00  0.2896\n",
       "1998-10-10 09:48:00  0.3144\n",
       "1998-10-10 11:48:00  0.2973\n",
       "1998-10-10 13:48:00  0.2673"
      ]
     },
     "execution_count": 37,
     "metadata": {},
     "output_type": "execute_result"
    }
   ],
   "source": [
    "labdata['Date_Time'] = labdata.Date+' '+labdata.Time\n",
    "labdata.Date_Time = pd.to_datetime(labdata.Date_Time)\n",
    "labdata.set_index('Date_Time', inplace=True)\n",
    "labdata.drop(['Date','Time'], axis=1, inplace=True)\n",
    "labdata.head()"
   ]
  },
  {
   "cell_type": "code",
   "execution_count": 38,
   "metadata": {},
   "outputs": [
    {
     "data": {
      "text/html": [
       "<div>\n",
       "<style>\n",
       "    .dataframe thead tr:only-child th {\n",
       "        text-align: right;\n",
       "    }\n",
       "\n",
       "    .dataframe thead th {\n",
       "        text-align: left;\n",
       "    }\n",
       "\n",
       "    .dataframe tbody tr th {\n",
       "        vertical-align: top;\n",
       "    }\n",
       "</style>\n",
       "<table border=\"1\" class=\"dataframe\">\n",
       "  <thead>\n",
       "    <tr style=\"text-align: right;\">\n",
       "      <th></th>\n",
       "      <th>R_MI</th>\n",
       "      <th>H2_Ratio</th>\n",
       "      <th>C4_Ratio</th>\n",
       "      <th>C_C2</th>\n",
       "      <th>F_C2</th>\n",
       "      <th>C_C4</th>\n",
       "      <th>F_C4</th>\n",
       "      <th>C_H2</th>\n",
       "      <th>F_H2</th>\n",
       "      <th>Temp</th>\n",
       "      <th>Press</th>\n",
       "      <th>Level</th>\n",
       "    </tr>\n",
       "    <tr>\n",
       "      <th>Date_Time</th>\n",
       "      <th></th>\n",
       "      <th></th>\n",
       "      <th></th>\n",
       "      <th></th>\n",
       "      <th></th>\n",
       "      <th></th>\n",
       "      <th></th>\n",
       "      <th></th>\n",
       "      <th></th>\n",
       "      <th></th>\n",
       "      <th></th>\n",
       "      <th></th>\n",
       "    </tr>\n",
       "  </thead>\n",
       "  <tbody>\n",
       "    <tr>\n",
       "      <th>1998-10-10 06:00:00</th>\n",
       "      <td>0.2812</td>\n",
       "      <td>0.0059</td>\n",
       "      <td>0.0517</td>\n",
       "      <td>0.3634</td>\n",
       "      <td>2922.3832</td>\n",
       "      <td>0.0188</td>\n",
       "      <td>113.7634</td>\n",
       "      <td>0.0021</td>\n",
       "      <td>0.0666</td>\n",
       "      <td>90.0</td>\n",
       "      <td>30.3975</td>\n",
       "      <td>3.0</td>\n",
       "    </tr>\n",
       "    <tr>\n",
       "      <th>1998-10-10 06:06:00</th>\n",
       "      <td>NaN</td>\n",
       "      <td>0.0059</td>\n",
       "      <td>0.0517</td>\n",
       "      <td>0.3634</td>\n",
       "      <td>2922.3832</td>\n",
       "      <td>0.0188</td>\n",
       "      <td>113.7634</td>\n",
       "      <td>0.0021</td>\n",
       "      <td>0.0666</td>\n",
       "      <td>90.0</td>\n",
       "      <td>30.3975</td>\n",
       "      <td>3.0</td>\n",
       "    </tr>\n",
       "    <tr>\n",
       "      <th>1998-10-10 06:12:00</th>\n",
       "      <td>NaN</td>\n",
       "      <td>0.0059</td>\n",
       "      <td>0.0517</td>\n",
       "      <td>0.3634</td>\n",
       "      <td>2922.3832</td>\n",
       "      <td>0.0188</td>\n",
       "      <td>113.7634</td>\n",
       "      <td>0.0021</td>\n",
       "      <td>0.0666</td>\n",
       "      <td>90.0</td>\n",
       "      <td>30.3975</td>\n",
       "      <td>3.0</td>\n",
       "    </tr>\n",
       "    <tr>\n",
       "      <th>1998-10-10 06:18:00</th>\n",
       "      <td>NaN</td>\n",
       "      <td>0.0059</td>\n",
       "      <td>0.0517</td>\n",
       "      <td>0.3634</td>\n",
       "      <td>2922.3832</td>\n",
       "      <td>0.0188</td>\n",
       "      <td>113.7634</td>\n",
       "      <td>0.0021</td>\n",
       "      <td>0.0666</td>\n",
       "      <td>90.0</td>\n",
       "      <td>30.3975</td>\n",
       "      <td>3.0</td>\n",
       "    </tr>\n",
       "    <tr>\n",
       "      <th>1998-10-10 06:24:00</th>\n",
       "      <td>NaN</td>\n",
       "      <td>0.0059</td>\n",
       "      <td>0.0517</td>\n",
       "      <td>0.3634</td>\n",
       "      <td>2922.3832</td>\n",
       "      <td>0.0188</td>\n",
       "      <td>113.7634</td>\n",
       "      <td>0.0021</td>\n",
       "      <td>0.0666</td>\n",
       "      <td>90.0</td>\n",
       "      <td>30.3975</td>\n",
       "      <td>3.0</td>\n",
       "    </tr>\n",
       "  </tbody>\n",
       "</table>\n",
       "</div>"
      ],
      "text/plain": [
       "                       R_MI  H2_Ratio  C4_Ratio    C_C2       F_C2    C_C4  \\\n",
       "Date_Time                                                                    \n",
       "1998-10-10 06:00:00  0.2812    0.0059    0.0517  0.3634  2922.3832  0.0188   \n",
       "1998-10-10 06:06:00     NaN    0.0059    0.0517  0.3634  2922.3832  0.0188   \n",
       "1998-10-10 06:12:00     NaN    0.0059    0.0517  0.3634  2922.3832  0.0188   \n",
       "1998-10-10 06:18:00     NaN    0.0059    0.0517  0.3634  2922.3832  0.0188   \n",
       "1998-10-10 06:24:00     NaN    0.0059    0.0517  0.3634  2922.3832  0.0188   \n",
       "\n",
       "                         F_C4    C_H2    F_H2  Temp    Press  Level  \n",
       "Date_Time                                                            \n",
       "1998-10-10 06:00:00  113.7634  0.0021  0.0666  90.0  30.3975    3.0  \n",
       "1998-10-10 06:06:00  113.7634  0.0021  0.0666  90.0  30.3975    3.0  \n",
       "1998-10-10 06:12:00  113.7634  0.0021  0.0666  90.0  30.3975    3.0  \n",
       "1998-10-10 06:18:00  113.7634  0.0021  0.0666  90.0  30.3975    3.0  \n",
       "1998-10-10 06:24:00  113.7634  0.0021  0.0666  90.0  30.3975    3.0  "
      ]
     },
     "execution_count": 38,
     "metadata": {},
     "output_type": "execute_result"
    }
   ],
   "source": [
    "alldata = pd.concat([labdata, dcsdata], axis=1)\n",
    "alldata.head()"
   ]
  },
  {
   "cell_type": "code",
   "execution_count": 39,
   "metadata": {},
   "outputs": [
    {
     "data": {
      "text/plain": [
       "(2302, 12)"
      ]
     },
     "execution_count": 39,
     "metadata": {},
     "output_type": "execute_result"
    }
   ],
   "source": [
    "alldata.shape"
   ]
  },
  {
   "cell_type": "code",
   "execution_count": 40,
   "metadata": {
    "collapsed": true
   },
   "outputs": [],
   "source": [
    "alldata =alldata.dropna(axis=0, how='any')"
   ]
  },
  {
   "cell_type": "code",
   "execution_count": 41,
   "metadata": {
    "collapsed": true
   },
   "outputs": [],
   "source": [
    "import seaborn as sns\n",
    "%matplotlib inline"
   ]
  },
  {
   "cell_type": "code",
   "execution_count": 42,
   "metadata": {},
   "outputs": [
    {
     "data": {
      "text/plain": [
       "<seaborn.axisgrid.PairGrid at 0x21ef9207cc0>"
      ]
     },
     "execution_count": 42,
     "metadata": {},
     "output_type": "execute_result"
    },
    {
     "data": {
      "image/png": "[encoded data removed]",
      "text/plain": [
       "<matplotlib.figure.Figure at 0x21ef9207cf8>"
      ]
     },
     "metadata": {},
     "output_type": "display_data"
    }
   ],
   "source": [
    "sns.pairplot(alldata, x_vars=['H2_Ratio', 'C4_Ratio', 'C_C2', 'F_C2', 'C_C4', 'F_C4', 'C_H2', 'F_H2', 'Temp', 'Press', 'Level'], y_vars='R_MI', size=7, aspect=0.8, kind='reg')"
   ]
  },
  {
   "cell_type": "code",
   "execution_count": 43,
   "metadata": {},
   "outputs": [
    {
     "data": {
      "text/html": [
       "<div>\n",
       "<style>\n",
       "    .dataframe thead tr:only-child th {\n",
       "        text-align: right;\n",
       "    }\n",
       "\n",
       "    .dataframe thead th {\n",
       "        text-align: left;\n",
       "    }\n",
       "\n",
       "    .dataframe tbody tr th {\n",
       "        vertical-align: top;\n",
       "    }\n",
       "</style>\n",
       "<table border=\"1\" class=\"dataframe\">\n",
       "  <thead>\n",
       "    <tr style=\"text-align: right;\">\n",
       "      <th></th>\n",
       "      <th>H2_Ratio</th>\n",
       "      <th>C4_Ratio</th>\n",
       "      <th>C_C2</th>\n",
       "      <th>F_C2</th>\n",
       "      <th>C_C4</th>\n",
       "      <th>F_C4</th>\n",
       "      <th>C_H2</th>\n",
       "      <th>F_H2</th>\n",
       "      <th>Temp</th>\n",
       "      <th>Press</th>\n",
       "      <th>Level</th>\n",
       "    </tr>\n",
       "    <tr>\n",
       "      <th>Date_Time</th>\n",
       "      <th></th>\n",
       "      <th></th>\n",
       "      <th></th>\n",
       "      <th></th>\n",
       "      <th></th>\n",
       "      <th></th>\n",
       "      <th></th>\n",
       "      <th></th>\n",
       "      <th></th>\n",
       "      <th></th>\n",
       "      <th></th>\n",
       "    </tr>\n",
       "  </thead>\n",
       "  <tbody>\n",
       "    <tr>\n",
       "      <th>1998-10-10 06:00:00</th>\n",
       "      <td>0.0059</td>\n",
       "      <td>0.0517</td>\n",
       "      <td>0.3634</td>\n",
       "      <td>2922.3832</td>\n",
       "      <td>0.0188</td>\n",
       "      <td>113.7634</td>\n",
       "      <td>0.0021</td>\n",
       "      <td>0.0666</td>\n",
       "      <td>90.0000</td>\n",
       "      <td>30.3975</td>\n",
       "      <td>3.0000</td>\n",
       "    </tr>\n",
       "    <tr>\n",
       "      <th>1998-10-10 07:48:00</th>\n",
       "      <td>0.0062</td>\n",
       "      <td>0.0534</td>\n",
       "      <td>0.3564</td>\n",
       "      <td>2823.1467</td>\n",
       "      <td>0.0190</td>\n",
       "      <td>113.6161</td>\n",
       "      <td>0.0022</td>\n",
       "      <td>0.0777</td>\n",
       "      <td>89.9667</td>\n",
       "      <td>30.0485</td>\n",
       "      <td>2.9900</td>\n",
       "    </tr>\n",
       "    <tr>\n",
       "      <th>1998-10-10 09:48:00</th>\n",
       "      <td>0.0061</td>\n",
       "      <td>0.0522</td>\n",
       "      <td>0.3568</td>\n",
       "      <td>2894.0236</td>\n",
       "      <td>0.0186</td>\n",
       "      <td>113.1866</td>\n",
       "      <td>0.0022</td>\n",
       "      <td>0.0631</td>\n",
       "      <td>90.2405</td>\n",
       "      <td>29.9819</td>\n",
       "      <td>3.0010</td>\n",
       "    </tr>\n",
       "    <tr>\n",
       "      <th>1998-10-10 11:48:00</th>\n",
       "      <td>0.0058</td>\n",
       "      <td>0.0516</td>\n",
       "      <td>0.3596</td>\n",
       "      <td>2909.5125</td>\n",
       "      <td>0.0186</td>\n",
       "      <td>112.9843</td>\n",
       "      <td>0.0021</td>\n",
       "      <td>0.0606</td>\n",
       "      <td>90.2077</td>\n",
       "      <td>30.0034</td>\n",
       "      <td>3.0024</td>\n",
       "    </tr>\n",
       "    <tr>\n",
       "      <th>1998-10-10 13:48:00</th>\n",
       "      <td>0.0055</td>\n",
       "      <td>0.0515</td>\n",
       "      <td>0.3612</td>\n",
       "      <td>2913.4502</td>\n",
       "      <td>0.0186</td>\n",
       "      <td>112.7498</td>\n",
       "      <td>0.0020</td>\n",
       "      <td>0.0588</td>\n",
       "      <td>90.2023</td>\n",
       "      <td>30.0080</td>\n",
       "      <td>3.0012</td>\n",
       "    </tr>\n",
       "  </tbody>\n",
       "</table>\n",
       "</div>"
      ],
      "text/plain": [
       "                     H2_Ratio  C4_Ratio    C_C2       F_C2    C_C4      F_C4  \\\n",
       "Date_Time                                                                      \n",
       "1998-10-10 06:00:00    0.0059    0.0517  0.3634  2922.3832  0.0188  113.7634   \n",
       "1998-10-10 07:48:00    0.0062    0.0534  0.3564  2823.1467  0.0190  113.6161   \n",
       "1998-10-10 09:48:00    0.0061    0.0522  0.3568  2894.0236  0.0186  113.1866   \n",
       "1998-10-10 11:48:00    0.0058    0.0516  0.3596  2909.5125  0.0186  112.9843   \n",
       "1998-10-10 13:48:00    0.0055    0.0515  0.3612  2913.4502  0.0186  112.7498   \n",
       "\n",
       "                       C_H2    F_H2     Temp    Press   Level  \n",
       "Date_Time                                                      \n",
       "1998-10-10 06:00:00  0.0021  0.0666  90.0000  30.3975  3.0000  \n",
       "1998-10-10 07:48:00  0.0022  0.0777  89.9667  30.0485  2.9900  \n",
       "1998-10-10 09:48:00  0.0022  0.0631  90.2405  29.9819  3.0010  \n",
       "1998-10-10 11:48:00  0.0021  0.0606  90.2077  30.0034  3.0024  \n",
       "1998-10-10 13:48:00  0.0020  0.0588  90.2023  30.0080  3.0012  "
      ]
     },
     "execution_count": 43,
     "metadata": {},
     "output_type": "execute_result"
    }
   ],
   "source": [
    "feature_cols = ['H2_Ratio', 'C4_Ratio', 'C_C2', 'F_C2', 'C_C4', 'F_C4', 'C_H2', 'F_H2', 'Temp', 'Press', 'Level']\n",
    "X = alldata[feature_cols]\n",
    "X.head()"
   ]
  },
  {
   "cell_type": "code",
   "execution_count": 44,
   "metadata": {},
   "outputs": [
    {
     "data": {
      "text/plain": [
       "Date_Time\n",
       "1998-10-10 06:00:00    0.2812\n",
       "1998-10-10 07:48:00    0.2896\n",
       "1998-10-10 09:48:00    0.3144\n",
       "1998-10-10 11:48:00    0.2973\n",
       "1998-10-10 13:48:00    0.2673\n",
       "Name: R_MI, dtype: float64"
      ]
     },
     "execution_count": 44,
     "metadata": {},
     "output_type": "execute_result"
    }
   ],
   "source": [
    "y = alldata['R_MI']\n",
    "y.head()"
   ]
  },
  {
   "cell_type": "code",
   "execution_count": 45,
   "metadata": {},
   "outputs": [],
   "source": [
    "from sklearn.cross_validation import train_test_split\n",
    "X_train, X_test, y_train, y_test = train_test_split(X, y, random_state=1)"
   ]
  },
  {
   "cell_type": "code",
   "execution_count": 46,
   "metadata": {},
   "outputs": [
    {
     "name": "stdout",
     "output_type": "stream",
     "text": [
      "(87, 11)\n",
      "(87,)\n",
      "(29, 11)\n",
      "(29,)\n"
     ]
    }
   ],
   "source": [
    "print(X_train.shape)\n",
    "print(y_train.shape)\n",
    "print(X_test.shape)\n",
    "print(y_test.shape)"
   ]
  },
  {
   "cell_type": "code",
   "execution_count": 47,
   "metadata": {},
   "outputs": [
    {
     "data": {
      "text/plain": [
       "LinearRegression(copy_X=True, fit_intercept=True, n_jobs=1, normalize=False)"
      ]
     },
     "execution_count": 47,
     "metadata": {},
     "output_type": "execute_result"
    }
   ],
   "source": [
    "from sklearn.linear_model import LinearRegression\n",
    "linreg = LinearRegression()\n",
    "linreg.fit(X_train, y_train)"
   ]
  },
  {
   "cell_type": "code",
   "execution_count": 48,
   "metadata": {},
   "outputs": [
    {
     "name": "stdout",
     "output_type": "stream",
     "text": [
      "-80.3367084576\n",
      "[  5.03437642e+02   3.88839930e+01   3.48625773e+01  -4.46502436e-03\n",
      "  -2.10844280e+02   1.23481401e-01   2.20469128e+02  -2.95466505e+01\n",
      "   1.82966646e-01   1.48250263e-01   1.55354023e+01]\n"
     ]
    }
   ],
   "source": [
    "# print the intercept and coefficients\n",
    "print(linreg.intercept_)\n",
    "print(linreg.coef_)"
   ]
  },
  {
   "cell_type": "code",
   "execution_count": 49,
   "metadata": {
    "collapsed": true
   },
   "outputs": [],
   "source": [
    "# make predictions on the testing set\n",
    "y_pred = linreg.predict(X_test)"
   ]
  },
  {
   "cell_type": "code",
   "execution_count": 53,
   "metadata": {},
   "outputs": [
    {
     "name": "stdout",
     "output_type": "stream",
     "text": [
      "0.0772587304341\n"
     ]
    }
   ],
   "source": [
    "import numpy as np\n",
    "from sklearn import metrics\n",
    "print(np.sqrt(metrics.mean_squared_error(y_test, y_pred)))"
   ]
  }
 ],
 "metadata": {
  "kernelspec": {
   "display_name": "Python 3",
   "language": "python",
   "name": "python3"
  },
  "language_info": {
   "codemirror_mode": {
    "name": "ipython",
    "version": 3
   },
   "file_extension": ".py",
   "mimetype": "text/x-python",
   "name": "python",
   "nbconvert_exporter": "python",
   "pygments_lexer": "ipython3",
   "version": "3.6.3"
  }
 },
 "nbformat": 4,
 "nbformat_minor": 2
}
